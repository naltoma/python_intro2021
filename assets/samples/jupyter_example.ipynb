{
 "cells": [
  {
   "cell_type": "markdown",
   "metadata": {},
   "source": [
    "# Jupyterを使ったノートの例\n",
    "JupyterはMarkdown形式に対応した文章を書いたり、プログラムのコードを書いたり、ノート内でそのコードを実行したり、その実行結果をノート内に含めたりすることができます。\n",
    "- Cellという単位で「文章(Markdown)」もしくは「コード(Code)」を記述していきます。\n",
    "- Cell を追加するには、左上の「+」をクリック。\n",
    "- Cell の実行方法\n",
    "    - 特定の Cell を実行する（Markdownのプレビュー表示にしたり、Codeを実行したりする）には、実行したいCellを選んだ状態で、右向き▶ボタンをクリックしましょう。もしくはShift+ReturnでもOK。\n",
    "- Cell の編集方法\n",
    "    - Jupyterはノートなので、既に書かれている文章やコードを編集できます。\n",
    "    - 編集したいCellをダブルクリックすると編集できます。\n",
    "    - 編集し終えた内容で、改めて実行（Shift+Return）することもできます。"
   ]
  },
  {
   "cell_type": "code",
   "execution_count": null,
   "metadata": {
    "collapsed": false
   },
   "outputs": [],
   "source": [
    "def add(x, y):\n",
    "    result = x + y\n",
    "    return result\n",
    "\n",
    "print(add(1,2))"
   ]
  },
  {
   "cell_type": "code",
   "execution_count": null,
   "metadata": {
    "collapsed": false
   },
   "outputs": [],
   "source": [
    "%matplotlib inline\n",
    "from math import *\n",
    "x = [i / 100 * 2 * pi for i in range(100)]\n",
    "y = [sin(x_) for x_ in x]\n",
    "from matplotlib.pyplot import plot\n",
    "plot(x, y)"
   ]
  },
  {
   "cell_type": "markdown",
   "metadata": {
    "collapsed": true
   },
   "source": [
    "- 一つのノートでスコープを共有しているので、最初のコードCellで定義した関数add()を、その後のCellで利用することもできます。"
   ]
  },
  {
   "cell_type": "code",
   "execution_count": null,
   "metadata": {
    "collapsed": false
   },
   "outputs": [],
   "source": [
    "add(2, 3)"
   ]
  }
 ],
 "metadata": {
  "kernelspec": {
   "display_name": "Python 3",
   "language": "python",
   "name": "python3"
  },
  "language_info": {
   "codemirror_mode": {
    "name": "ipython",
    "version": 3
   },
   "file_extension": ".py",
   "mimetype": "text/x-python",
   "name": "python",
   "nbconvert_exporter": "python",
   "pygments_lexer": "ipython3",
   "version": "3.4.3"
  }
 },
 "nbformat": 4,
 "nbformat_minor": 0
}
